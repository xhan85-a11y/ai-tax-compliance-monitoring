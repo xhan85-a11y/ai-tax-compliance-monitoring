{
  "cells": [
    {
      "cell_type": "code",
      "metadata": {},
      "source": "import pandas as pd\npd.read_csv('../data/raw/transactions.csv').head()",
      "outputs": [],
      "execution_count": null
    }
  ],
  "metadata": {},
  "nbformat": 4,
  "nbformat_minor": 5
}